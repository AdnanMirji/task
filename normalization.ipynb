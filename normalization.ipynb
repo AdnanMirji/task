{
  "cells": [
    {
      "cell_type": "code",
      "execution_count": 5,
      "metadata": {
        "colab": {
          "base_uri": "https://localhost:8080/"
        },
        "id": "vUNAO-1PiH-A",
        "outputId": "ef425195-6536-454f-8b02-f51c5cd98fd2"
      },
      "outputs": [
        {
          "output_type": "stream",
          "name": "stdout",
          "text": [
            "   x  y\n",
            "0  5  9\n",
            "1  6  3\n",
            "2  2  7\n",
            "3  4  5\n",
            "4  8  7\n",
            "5  9  5\n",
            "6  6  4\n",
            "[[0.42857143]\n",
            " [0.57142857]\n",
            " [0.        ]\n",
            " [0.28571429]\n",
            " [0.85714286]\n",
            " [1.        ]\n",
            " [0.57142857]]\n"
          ]
        }
      ],
      "source": [
        "import pandas as pd\n",
        "import numpy as np\n",
        "from sklearn.preprocessing import MinMaxScaler\n",
        "from sklearn import preprocessing\n",
        "\n",
        "data=pd.read_csv('/content/drive/MyDrive/Task_1/Book1.csv')\n",
        "print(data)\n",
        "\n",
        "dataset1=data.iloc[:,0:1].values\n",
        "\n",
        "dataset2=data.iloc[:,-1].values\n",
        "\n",
        "\n",
        "x=np.array(dataset1)\n",
        "\n",
        "y=np.array(dataset2).reshape((-1,1))\n",
        "\n",
        "scaler = preprocessing.MinMaxScaler()\n",
        "normalized_features = scaler.fit_transform(x)\n",
        "print(normalized_features)\n",
        "\n"
      ]
    },
    {
      "cell_type": "code",
      "source": [],
      "metadata": {
        "id": "DNLpOku6WzAs"
      },
      "execution_count": 4,
      "outputs": []
    }
  ],
  "metadata": {
    "colab": {
      "provenance": []
    },
    "kernelspec": {
      "display_name": "Python 3",
      "name": "python3"
    },
    "language_info": {
      "name": "python"
    }
  },
  "nbformat": 4,
  "nbformat_minor": 0
}